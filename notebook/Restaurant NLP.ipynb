{
 "cells": [
  {
   "cell_type": "markdown",
   "id": "98f0588b",
   "metadata": {},
   "source": [
    "# Restaurant Natural Language Processing"
   ]
  },
  {
   "cell_type": "markdown",
   "id": "5d674ecf",
   "metadata": {},
   "source": [
    "## 1. Introduction"
   ]
  },
  {
   "cell_type": "markdown",
   "id": "fd5ac377",
   "metadata": {},
   "source": [
    "&nbsp;&nbsp;&nbsp;&nbsp;&nbsp;&nbsp; In [this dataset](https://www.kaggle.com/datasets/d4rklucif3r/restaurant-reviews), I have 1000 restaurant reviews and whether or not the person liked the restaurant. The data will be imported as a dataset with two columns: the first being an object with their text review and the second being a zero indicating a bad review or a 1 indicating a good review. I will create a model that will be able to accurately identify whether a person liked or disliked the restaurant based on the verbage of their review."
   ]
  },
  {
   "cell_type": "markdown",
   "id": "0eb4f53a",
   "metadata": {},
   "source": [
    "## 2. Initial Data Analysis"
   ]
  },
  {
   "cell_type": "markdown",
   "id": "d8c5290d",
   "metadata": {},
   "source": [
    "&nbsp;&nbsp;&nbsp;&nbsp;&nbsp;&nbsp; To begin, I must import some necessary packages. I clearly have some very commonly used packages such as pandas and numpy, but some less commonly seen packages will be very useful for us here. One of those in particular will be ntlk and the stopwords download. This will allow us to eliminate some common english words that don't have much effect on the mood of the review so that my model can focus better on some of the other words that will matter more."
   ]
  },
  {
   "cell_type": "code",
   "execution_count": 1,
   "id": "d522f880",
   "metadata": {},
   "outputs": [
    {
     "name": "stderr",
     "output_type": "stream",
     "text": [
      "[nltk_data] Downloading package stopwords to\n",
      "[nltk_data]     C:\\Users\\Anthony\\AppData\\Roaming\\nltk_data...\n",
      "[nltk_data]   Package stopwords is already up-to-date!\n"
     ]
    }
   ],
   "source": [
    "#import necessary packages\n",
    "\n",
    "import pandas as pd\n",
    "import matplotlib.pyplot as plt\n",
    "import numpy as np\n",
    "import re\n",
    "import nltk\n",
    "nltk.download('stopwords')\n",
    "from nltk.corpus import stopwords\n",
    "from nltk.stem.porter import PorterStemmer\n",
    "from sklearn.feature_extraction.text import CountVectorizer\n",
    "from sklearn.model_selection import train_test_split\n",
    "from sklearn.metrics import confusion_matrix, accuracy_score, ConfusionMatrixDisplay\n",
    "import tensorflow as tf\n",
    "from tensorflow import keras"
   ]
  },
  {
   "cell_type": "code",
   "execution_count": 2,
   "id": "4fb4e23a",
   "metadata": {},
   "outputs": [],
   "source": [
    "#importing data\n",
    "\n",
    "df = pd.read_csv('../data/Restaurant_Reviews.tsv', sep='\\t')"
   ]
  },
  {
   "cell_type": "code",
   "execution_count": 3,
   "id": "7a8f0d8e",
   "metadata": {},
   "outputs": [
    {
     "name": "stdout",
     "output_type": "stream",
     "text": [
      "<class 'pandas.core.frame.DataFrame'>\n",
      "RangeIndex: 1000 entries, 0 to 999\n",
      "Data columns (total 2 columns):\n",
      " #   Column  Non-Null Count  Dtype \n",
      "---  ------  --------------  ----- \n",
      " 0   Review  1000 non-null   object\n",
      " 1   Liked   1000 non-null   int64 \n",
      "dtypes: int64(1), object(1)\n",
      "memory usage: 15.8+ KB\n"
     ]
    }
   ],
   "source": [
    "#getting an idea of what the data looks like\n",
    "\n",
    "df.info()"
   ]
  },
  {
   "cell_type": "code",
   "execution_count": 4,
   "id": "d95ddda1",
   "metadata": {},
   "outputs": [
    {
     "data": {
      "text/html": [
       "<div>\n",
       "<style scoped>\n",
       "    .dataframe tbody tr th:only-of-type {\n",
       "        vertical-align: middle;\n",
       "    }\n",
       "\n",
       "    .dataframe tbody tr th {\n",
       "        vertical-align: top;\n",
       "    }\n",
       "\n",
       "    .dataframe thead th {\n",
       "        text-align: right;\n",
       "    }\n",
       "</style>\n",
       "<table border=\"1\" class=\"dataframe\">\n",
       "  <thead>\n",
       "    <tr style=\"text-align: right;\">\n",
       "      <th></th>\n",
       "      <th>count</th>\n",
       "      <th>%</th>\n",
       "    </tr>\n",
       "  </thead>\n",
       "  <tbody>\n",
       "    <tr>\n",
       "      <th>Review</th>\n",
       "      <td>0</td>\n",
       "      <td>0.0</td>\n",
       "    </tr>\n",
       "    <tr>\n",
       "      <th>Liked</th>\n",
       "      <td>0</td>\n",
       "      <td>0.0</td>\n",
       "    </tr>\n",
       "  </tbody>\n",
       "</table>\n",
       "</div>"
      ],
      "text/plain": [
       "        count    %\n",
       "Review      0  0.0\n",
       "Liked       0  0.0"
      ]
     },
     "execution_count": 4,
     "metadata": {},
     "output_type": "execute_result"
    }
   ],
   "source": [
    "#ensuring no missing cells\n",
    "\n",
    "missing = pd.concat([df.isnull().sum(), 100 * df.isnull().mean()], axis=1)\n",
    "missing.columns=['count', '%']\n",
    "missing.sort_values(by='count', ascending = False)"
   ]
  },
  {
   "cell_type": "code",
   "execution_count": 5,
   "id": "93806770",
   "metadata": {},
   "outputs": [
    {
     "name": "stdout",
     "output_type": "stream",
     "text": [
      "['i', 'me', 'my', 'myself', 'we', 'our', 'ours', 'ourselves', 'you', \"you're\", \"you've\", \"you'll\", \"you'd\", 'your', 'yours', 'yourself', 'yourselves', 'he', 'him', 'his', 'himself', 'she', \"she's\", 'her', 'hers', 'herself', 'it', \"it's\", 'its', 'itself', 'they', 'them', 'their', 'theirs', 'themselves', 'what', 'which', 'who', 'whom', 'this', 'that', \"that'll\", 'these', 'those', 'am', 'is', 'are', 'was', 'were', 'be', 'been', 'being', 'have', 'has', 'had', 'having', 'do', 'does', 'did', 'doing', 'a', 'an', 'the', 'and', 'but', 'if', 'or', 'because', 'as', 'until', 'while', 'of', 'at', 'by', 'for', 'with', 'about', 'against', 'between', 'into', 'through', 'during', 'before', 'after', 'above', 'below', 'to', 'from', 'up', 'down', 'in', 'out', 'on', 'off', 'over', 'under', 'again', 'further', 'then', 'once', 'here', 'there', 'when', 'where', 'why', 'how', 'all', 'any', 'both', 'each', 'few', 'more', 'most', 'other', 'some', 'such', 'no', 'nor', 'only', 'own', 'same', 'so', 'than', 'too', 'very', 's', 't', 'can', 'will', 'just', 'don', \"don't\", 'should', \"should've\", 'now', 'd', 'll', 'm', 'o', 're', 've', 'y', 'ain', 'aren', \"aren't\", 'couldn', \"couldn't\", 'didn', \"didn't\", 'doesn', \"doesn't\", 'hadn', \"hadn't\", 'hasn', \"hasn't\", 'haven', \"haven't\", 'isn', \"isn't\", 'ma', 'mightn', \"mightn't\", 'mustn', \"mustn't\", 'needn', \"needn't\", 'shan', \"shan't\", 'shouldn', \"shouldn't\", 'wasn', \"wasn't\", 'weren', \"weren't\", 'won', \"won't\", 'wouldn', \"wouldn't\"]\n"
     ]
    }
   ],
   "source": [
    "#importing stopwords to make reviews more useful\n",
    "\n",
    "sw = stopwords.words('english')\n",
    "sw.remove('not')\n",
    "print(sw)"
   ]
  },
  {
   "cell_type": "code",
   "execution_count": 6,
   "id": "1e8527ef",
   "metadata": {},
   "outputs": [],
   "source": [
    "#writing a function to clean each review and only keep more useful words\n",
    "\n",
    "def clean_review(review):\n",
    "    review = re.sub('[^a-zA-Z]', ' ', review)\n",
    "    review = review.lower().split()\n",
    "    ps = PorterStemmer()\n",
    "    words = [ps.stem(i) for i in review if not i in sw]\n",
    "    simple_review = ' '.join(words)\n",
    "    return simple_review"
   ]
  },
  {
   "cell_type": "code",
   "execution_count": 7,
   "id": "22e0ae1e",
   "metadata": {},
   "outputs": [
    {
     "data": {
      "text/html": [
       "<div>\n",
       "<style scoped>\n",
       "    .dataframe tbody tr th:only-of-type {\n",
       "        vertical-align: middle;\n",
       "    }\n",
       "\n",
       "    .dataframe tbody tr th {\n",
       "        vertical-align: top;\n",
       "    }\n",
       "\n",
       "    .dataframe thead th {\n",
       "        text-align: right;\n",
       "    }\n",
       "</style>\n",
       "<table border=\"1\" class=\"dataframe\">\n",
       "  <thead>\n",
       "    <tr style=\"text-align: right;\">\n",
       "      <th></th>\n",
       "      <th>Review</th>\n",
       "      <th>Liked</th>\n",
       "      <th>Simple Review</th>\n",
       "    </tr>\n",
       "  </thead>\n",
       "  <tbody>\n",
       "    <tr>\n",
       "      <th>0</th>\n",
       "      <td>Wow... Loved this place.</td>\n",
       "      <td>1</td>\n",
       "      <td>wow love place</td>\n",
       "    </tr>\n",
       "    <tr>\n",
       "      <th>1</th>\n",
       "      <td>Crust is not good.</td>\n",
       "      <td>0</td>\n",
       "      <td>crust not good</td>\n",
       "    </tr>\n",
       "    <tr>\n",
       "      <th>2</th>\n",
       "      <td>Not tasty and the texture was just nasty.</td>\n",
       "      <td>0</td>\n",
       "      <td>not tasti textur nasti</td>\n",
       "    </tr>\n",
       "    <tr>\n",
       "      <th>3</th>\n",
       "      <td>Stopped by during the late May bank holiday of...</td>\n",
       "      <td>1</td>\n",
       "      <td>stop late may bank holiday rick steve recommen...</td>\n",
       "    </tr>\n",
       "    <tr>\n",
       "      <th>4</th>\n",
       "      <td>The selection on the menu was great and so wer...</td>\n",
       "      <td>1</td>\n",
       "      <td>select menu great price</td>\n",
       "    </tr>\n",
       "    <tr>\n",
       "      <th>5</th>\n",
       "      <td>Now I am getting angry and I want my damn pho.</td>\n",
       "      <td>0</td>\n",
       "      <td>get angri want damn pho</td>\n",
       "    </tr>\n",
       "    <tr>\n",
       "      <th>6</th>\n",
       "      <td>Honeslty it didn't taste THAT fresh.)</td>\n",
       "      <td>0</td>\n",
       "      <td>honeslti tast fresh</td>\n",
       "    </tr>\n",
       "    <tr>\n",
       "      <th>7</th>\n",
       "      <td>The potatoes were like rubber and you could te...</td>\n",
       "      <td>0</td>\n",
       "      <td>potato like rubber could tell made ahead time ...</td>\n",
       "    </tr>\n",
       "    <tr>\n",
       "      <th>8</th>\n",
       "      <td>The fries were great too.</td>\n",
       "      <td>1</td>\n",
       "      <td>fri great</td>\n",
       "    </tr>\n",
       "    <tr>\n",
       "      <th>9</th>\n",
       "      <td>A great touch.</td>\n",
       "      <td>1</td>\n",
       "      <td>great touch</td>\n",
       "    </tr>\n",
       "  </tbody>\n",
       "</table>\n",
       "</div>"
      ],
      "text/plain": [
       "                                              Review  Liked  \\\n",
       "0                           Wow... Loved this place.      1   \n",
       "1                                 Crust is not good.      0   \n",
       "2          Not tasty and the texture was just nasty.      0   \n",
       "3  Stopped by during the late May bank holiday of...      1   \n",
       "4  The selection on the menu was great and so wer...      1   \n",
       "5     Now I am getting angry and I want my damn pho.      0   \n",
       "6              Honeslty it didn't taste THAT fresh.)      0   \n",
       "7  The potatoes were like rubber and you could te...      0   \n",
       "8                          The fries were great too.      1   \n",
       "9                                     A great touch.      1   \n",
       "\n",
       "                                       Simple Review  \n",
       "0                                     wow love place  \n",
       "1                                     crust not good  \n",
       "2                             not tasti textur nasti  \n",
       "3  stop late may bank holiday rick steve recommen...  \n",
       "4                            select menu great price  \n",
       "5                            get angri want damn pho  \n",
       "6                                honeslti tast fresh  \n",
       "7  potato like rubber could tell made ahead time ...  \n",
       "8                                          fri great  \n",
       "9                                        great touch  "
      ]
     },
     "execution_count": 7,
     "metadata": {},
     "output_type": "execute_result"
    }
   ],
   "source": [
    "#applying function from like 6 to my data\n",
    "\n",
    "df['Simple Review']=df.iloc[:,0].apply(clean_review)\n",
    "df.head(10)"
   ]
  },
  {
   "cell_type": "markdown",
   "id": "9a54eee1",
   "metadata": {},
   "source": [
    "&nbsp;&nbsp;&nbsp;&nbsp;&nbsp;&nbsp; Here, we can see the list of stopwords that I omitted from the reviews. With less words for the model to look at, the model will now be able to more quickly find which words lead to bad reviews and which words lead to good reviews."
   ]
  },
  {
   "cell_type": "markdown",
   "id": "39c8268a",
   "metadata": {},
   "source": [
    "## 2. Modeling"
   ]
  },
  {
   "cell_type": "markdown",
   "id": "4485bc68",
   "metadata": {},
   "source": [
    "&nbsp;&nbsp;&nbsp;&nbsp;&nbsp;&nbsp; For modeling, I have decided to go with 4 different models. After train test splitting the data, I will be using sklearn's Gaussian Naive Bayes Classifier, sklearn's SGD Classifier, sklearn's Multinomial Naive Bayes Classifier, and a neural network using keras.Sequential in a tensorflow.keras model."
   ]
  },
  {
   "cell_type": "code",
   "execution_count": 8,
   "id": "6e3917bf",
   "metadata": {},
   "outputs": [],
   "source": [
    "#I will be using sklearn's CountVectorizer to make my review data into something measurable\n",
    "#after that, I will train test split with the reviews as X data and liked as y data\n",
    "\n",
    "cv = CountVectorizer()\n",
    "X = cv.fit_transform(df['Simple Review']).toarray()\n",
    "y = df['Liked']\n",
    "\n",
    "X_train, X_test, y_train, y_test = train_test_split(X, y, test_size = .3)"
   ]
  },
  {
   "cell_type": "markdown",
   "id": "c282af7f",
   "metadata": {},
   "source": [
    "### 2.1 Gaussian Naive Bayes"
   ]
  },
  {
   "cell_type": "code",
   "execution_count": 9,
   "id": "2b86825b",
   "metadata": {},
   "outputs": [
    {
     "data": {
      "image/png": "[encoded data removed]",
      "text/plain": [
       "<Figure size 640x480 with 2 Axes>"
      ]
     },
     "metadata": {},
     "output_type": "display_data"
    },
    {
     "name": "stdout",
     "output_type": "stream",
     "text": [
      "The accuracy of the Gaussian Naive Bayes Classifier is 67.0%\n"
     ]
    }
   ],
   "source": [
    "#creating Gaussian Naive Bayes model and predicting test data with it\n",
    "\n",
    "from sklearn.naive_bayes import GaussianNB\n",
    "gnb = GaussianNB()\n",
    "gnb.fit(X_train, y_train)\n",
    "y_pred_gnb = gnb.predict(X_test)\n",
    "cm = confusion_matrix(y_test, y_pred_gnb)\n",
    "disp = ConfusionMatrixDisplay(confusion_matrix = cm)\n",
    "disp.plot()\n",
    "plt.show()\n",
    "print(\"The accuracy of the Gaussian Naive Bayes Classifier is {}%\" .format(round(accuracy_score(y_test, y_pred_gnb)*100,2)))"
   ]
  },
  {
   "cell_type": "markdown",
   "id": "b93a11bd",
   "metadata": {},
   "source": [
    "&nbsp;&nbsp;&nbsp;&nbsp;&nbsp;&nbsp; Our Gaussian Naive Bayes model did not preform as accurately as I would have liked. We can see a significant amount of false positive predictions, which brings the model's performance in predicting the testing data to a dissatisfactory 68%."
   ]
  },
  {
   "cell_type": "markdown",
   "id": "db5bab38",
   "metadata": {},
   "source": [
    "### 2.2 Stochastic Gradient Descent"
   ]
  },
  {
   "cell_type": "code",
   "execution_count": 10,
   "id": "2b49c313",
   "metadata": {},
   "outputs": [
    {
     "data": {
      "image/png": "[encoded data removed]",
      "text/plain": [
       "<Figure size 640x480 with 2 Axes>"
      ]
     },
     "metadata": {},
     "output_type": "display_data"
    },
    {
     "name": "stdout",
     "output_type": "stream",
     "text": [
      "The accuracy of the SGD Classifier is 77.0%\n"
     ]
    }
   ],
   "source": [
    "#creating SGD Classifier model and predicting test data with it\n",
    "\n",
    "from sklearn.linear_model import SGDClassifier\n",
    "sgd = SGDClassifier()\n",
    "sgd.fit(X_train, y_train)\n",
    "y_pred_sgd = sgd.predict(X_test)\n",
    "cm = confusion_matrix(y_test, y_pred_sgd)\n",
    "disp = ConfusionMatrixDisplay(confusion_matrix = cm)\n",
    "disp.plot()\n",
    "plt.show()\n",
    "print(\"The accuracy of the SGD Classifier is {}%\" .format(round(accuracy_score(y_test, y_pred_sgd)*100,2)))"
   ]
  },
  {
   "cell_type": "markdown",
   "id": "19fd6c70",
   "metadata": {},
   "source": [
    "&nbsp;&nbsp;&nbsp;&nbsp;&nbsp;&nbsp; In the case of the SGD Classifier, we can observe a clear improvement in the predictions. There are many less false positives that the previous Gaussian Naive Bayes classifier, making this model a clear leader. Now, conversely to the Gaussian Naive Bayes Classifier, we see an increased number of false negatives."
   ]
  },
  {
   "cell_type": "markdown",
   "id": "ec85eb8a",
   "metadata": {},
   "source": [
    "### 2.3 Multinomial Naive Bayes"
   ]
  },
  {
   "cell_type": "code",
   "execution_count": 11,
   "id": "b6b3b534",
   "metadata": {},
   "outputs": [
    {
     "data": {
      "image/png": "[encoded data removed]",
      "text/plain": [
       "<Figure size 640x480 with 2 Axes>"
      ]
     },
     "metadata": {},
     "output_type": "display_data"
    },
    {
     "name": "stdout",
     "output_type": "stream",
     "text": [
      "The accuracy of the Multinomial Naive Bayes Classifier is 80.0%\n"
     ]
    }
   ],
   "source": [
    "#creating Multinomial Naive Bayes model and predicting test data with it\n",
    "\n",
    "from sklearn.naive_bayes import MultinomialNB\n",
    "mnb = MultinomialNB()\n",
    "mnb.fit(X_train, y_train)\n",
    "y_pred_mnb = mnb.predict(X_test)\n",
    "cm = confusion_matrix(y_test, y_pred_mnb)\n",
    "disp = ConfusionMatrixDisplay(confusion_matrix = cm)\n",
    "disp.plot()\n",
    "plt.show()\n",
    "print(\"The accuracy of the Multinomial Naive Bayes Classifier is {}%\" .format(round(accuracy_score(y_test, y_pred_mnb)*100,2)))"
   ]
  },
  {
   "cell_type": "markdown",
   "id": "cde37c5a",
   "metadata": {},
   "source": [
    "&nbsp;&nbsp;&nbsp;&nbsp;&nbsp;&nbsp; This Multinomial Naive Bayes Classifier has improved on the weaknesses of both its predecessors. At 81% accuracy, this model is showing to be in the best model for this data."
   ]
  },
  {
   "cell_type": "markdown",
   "id": "70387b72",
   "metadata": {},
   "source": [
    "### 2.4 Deep Neural Network"
   ]
  },
  {
   "cell_type": "code",
   "execution_count": 12,
   "id": "d8c638e8",
   "metadata": {},
   "outputs": [
    {
     "name": "stdout",
     "output_type": "stream",
     "text": [
      "Epoch 1/20\n",
      "22/22 [==============================] - 1s 5ms/step - loss: 0.7147 - accuracy: 0.5014\n",
      "Epoch 2/20\n",
      "22/22 [==============================] - 0s 6ms/step - loss: 0.6312 - accuracy: 0.6971\n",
      "Epoch 3/20\n",
      "22/22 [==============================] - 0s 5ms/step - loss: 0.5817 - accuracy: 0.9157\n",
      "Epoch 4/20\n",
      "22/22 [==============================] - 0s 3ms/step - loss: 0.5386 - accuracy: 0.9086\n",
      "Epoch 5/20\n",
      "22/22 [==============================] - 0s 6ms/step - loss: 0.5026 - accuracy: 0.8857\n",
      "Epoch 6/20\n",
      "22/22 [==============================] - 0s 2ms/step - loss: 0.4629 - accuracy: 0.8957\n",
      "Epoch 7/20\n",
      "22/22 [==============================] - 0s 2ms/step - loss: 0.4224 - accuracy: 0.9471\n",
      "Epoch 8/20\n",
      "22/22 [==============================] - 0s 4ms/step - loss: 0.3904 - accuracy: 0.9486\n",
      "Epoch 9/20\n",
      "22/22 [==============================] - 0s 5ms/step - loss: 0.3567 - accuracy: 0.9514\n",
      "Epoch 10/20\n",
      "22/22 [==============================] - 0s 5ms/step - loss: 0.3252 - accuracy: 0.9586\n",
      "Epoch 11/20\n",
      "22/22 [==============================] - 0s 5ms/step - loss: 0.2988 - accuracy: 0.9600\n",
      "Epoch 12/20\n",
      "22/22 [==============================] - 0s 9ms/step - loss: 0.2735 - accuracy: 0.9629\n",
      "Epoch 13/20\n",
      "22/22 [==============================] - 0s 5ms/step - loss: 0.2515 - accuracy: 0.9714\n",
      "Epoch 14/20\n",
      "22/22 [==============================] - 0s 2ms/step - loss: 0.2310 - accuracy: 0.9657\n",
      "Epoch 15/20\n",
      "22/22 [==============================] - 0s 2ms/step - loss: 0.2125 - accuracy: 0.9700\n",
      "Epoch 16/20\n",
      "22/22 [==============================] - 0s 2ms/step - loss: 0.1963 - accuracy: 0.9700\n",
      "Epoch 17/20\n",
      "22/22 [==============================] - 0s 5ms/step - loss: 0.1816 - accuracy: 0.9757\n",
      "Epoch 18/20\n",
      "22/22 [==============================] - 0s 5ms/step - loss: 0.1682 - accuracy: 0.9743\n",
      "Epoch 19/20\n",
      "22/22 [==============================] - 0s 5ms/step - loss: 0.1563 - accuracy: 0.9757\n",
      "Epoch 20/20\n",
      "22/22 [==============================] - 0s 3ms/step - loss: 0.1458 - accuracy: 0.9786\n",
      "10/10 [==============================] - 0s 5ms/step\n"
     ]
    },
    {
     "data": {
      "image/png": "[encoded data removed]",
      "text/plain": [
       "<Figure size 640x480 with 2 Axes>"
      ]
     },
     "metadata": {},
     "output_type": "display_data"
    },
    {
     "name": "stdout",
     "output_type": "stream",
     "text": [
      "The accuracy of the Neural Network is 78.0%\n"
     ]
    }
   ],
   "source": [
    "#creating deep neural network using keras.Sequential() with sigmoid activation and predicting test data with it\n",
    "\n",
    "dnn = keras.Sequential([\n",
    "        keras.layers.Dense(units = 256, activation = 'sigmoid'),\n",
    "        keras.layers.Dense(units = 1, activation = 'sigmoid')\n",
    "])\n",
    "\n",
    "dnn.compile(optimizer='adam',loss='binary_crossentropy',metrics=['accuracy'])\n",
    "dnn.fit(X_train,y_train,epochs=20)\n",
    "\n",
    "y_pred_dnn = dnn.predict(X_test)\n",
    "y_pred = (np.around(y_pred_dnn)).astype(int)\n",
    "cm = confusion_matrix(y_test, y_pred)\n",
    "disp = ConfusionMatrixDisplay(confusion_matrix = cm)\n",
    "disp.plot()\n",
    "plt.show()\n",
    "print(\"The accuracy of the Neural Network is {}%\" .format(round(accuracy_score(y_test, y_pred)*100,2)))"
   ]
  },
  {
   "cell_type": "markdown",
   "id": "b1e7caca",
   "metadata": {},
   "source": [
    "&nbsp;&nbsp;&nbsp;&nbsp;&nbsp;&nbsp; For the neural network, we can see results nearly identical to the Multinomial Naive Bayes Classifier. I'd feel more comfortable using the neural network as my best model. Not to discredit the Multinomial Naive Bayes Classifier, I feel that the neural network could be more adaptable to different reviews that it would see in the future."
   ]
  },
  {
   "cell_type": "code",
   "execution_count": 13,
   "id": "2ea4944e",
   "metadata": {},
   "outputs": [],
   "source": [
    "#saving my Multinomial Naive Bayes model as my best model\n",
    "\n",
    "dnn.save('../model/best_model', save_format = 'h5')"
   ]
  }
 ],
 "metadata": {
  "kernelspec": {
   "display_name": "Python 3 (ipykernel)",
   "language": "python",
   "name": "python3"
  },
  "language_info": {
   "codemirror_mode": {
    "name": "ipython",
    "version": 3
   },
   "file_extension": ".py",
   "mimetype": "text/x-python",
   "name": "python",
   "nbconvert_exporter": "python",
   "pygments_lexer": "ipython3",
   "version": "3.9.13"
  }
 },
 "nbformat": 4,
 "nbformat_minor": 5
}
